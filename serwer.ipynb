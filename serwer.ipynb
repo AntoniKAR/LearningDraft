{
 "cells": [
  {
   "cell_type": "code",
   "execution_count": null,
   "id": "8522fb53",
   "metadata": {},
   "outputs": [
    {
     "name": "stdout",
     "output_type": "stream",
     "text": [
      "working\n"
     ]
    }
   ],
   "source": [
    "import socket\n",
    "\n",
    "\n",
    "server=socket.socket(socket.AF_INET, socket.SOCK_STREAM)\n",
    "server.bind(('127.1.0.1', 2000))\n",
    "server.listen(50)\n",
    "print('working')\n",
    "client_socket, address= server.accept()\n",
    "data=client_socket.recv(1024).decode('utf-8')\n",
    "print(data)\n",
    "HDRS='HTTP/1.1 200 OK\\r\\nContent-Type: text/html; charset=utf-8\\r\\n\\r\\n'\n",
    "content=\"I love you, Elena\". encode('utf-8')\n",
    "client_socket.send(HDRS.encode('utf-8')+content)\n",
    "print('close the windows...')\n",
    "\n",
    "\n",
    "\n",
    "\n"
   ]
  }
 ],
 "metadata": {
  "kernelspec": {
   "display_name": "Python 3",
   "language": "python",
   "name": "python3"
  },
  "language_info": {
   "codemirror_mode": {
    "name": "ipython",
    "version": 3
   },
   "file_extension": ".py",
   "mimetype": "text/x-python",
   "name": "python",
   "nbconvert_exporter": "python",
   "pygments_lexer": "ipython3",
   "version": "3.8.8"
  }
 },
 "nbformat": 4,
 "nbformat_minor": 5
}
