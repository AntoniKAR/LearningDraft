{
 "cells": [
  {
   "cell_type": "code",
   "execution_count": null,
   "id": "5fc4b9ba",
   "metadata": {},
   "outputs": [],
   "source": [
    "import os\n",
    "import time\n",
    "# 1. Файлы и каталоги, которые необходимо скопировать, собираются в список.\n",
    "source = ['\"C:\\\\cop1\"', 'C:\\\\cop2']\n",
    "# Заметьте, что для имён, содержащих пробелы, необходимо использовать\n",
    "# двойные кавычки внутри строки.\n",
    "# 2. Резервные копии должны храниться в основном каталоге резерва.\n",
    "target_dir = 'D:\\\\backup' # Подставьте ваш путь.\n",
    "# 3. Файлы помещаются в zip-архив.\n",
    "# 4. Именем для zip-архива служит текущая дата и время.\n",
    "target = target_dir + os.sep + time.strftime('%Y%m%d%H%M%S') + '.zip'\n",
    "\n",
    "# 5. Используем команду \"zip\" для помещения файлов в zip-архив\n",
    "zip_command = \"zip -qr {0} {1}\".format(target, ' '.join(source))\n",
    "# Запускаем создание резервной копии\n",
    "print(zip_command)\n",
    "if os.system(zip_command) == 0:\n",
    "    print('Резервная копия успешно создана в', target)\n",
    "else:\n",
    "    print('Создание резервной копии НЕ УДАЛОСЬ')"
   ]
  }
 ],
 "metadata": {
  "kernelspec": {
   "display_name": "Python 3",
   "language": "python",
   "name": "python3"
  },
  "language_info": {
   "codemirror_mode": {
    "name": "ipython",
    "version": 3
   },
   "file_extension": ".py",
   "mimetype": "text/x-python",
   "name": "python",
   "nbconvert_exporter": "python",
   "pygments_lexer": "ipython3",
   "version": "3.8.8"
  }
 },
 "nbformat": 4,
 "nbformat_minor": 5
}
