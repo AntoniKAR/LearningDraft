{
 "cells": [
  {
   "cell_type": "code",
   "execution_count": 1,
   "id": "e2755b09",
   "metadata": {},
   "outputs": [
    {
     "name": "stdout",
     "output_type": "stream",
     "text": [
      "How Can Mirrors Be Real If Our Eyes Aren't Real\n"
     ]
    }
   ],
   "source": [
    "# Метод capwords() is библиотеки string\n",
    "# Дели тстроковый аргумент на string'ом в список затем для каждого элемента списка делат capitalize(),\n",
    "# затем обртно сшиваетв строку. Пример\n",
    "import string as st\n",
    "not_jaden_case = \"How can mirrors be real if our eyes aren't real\"\n",
    "to_jaden_case = st.capwords(not_jaden_case)\n",
    "print(to_jaden_case)"
   ]
  }
 ],
 "metadata": {
  "kernelspec": {
   "display_name": "Python 3 (ipykernel)",
   "language": "python",
   "name": "python3"
  },
  "language_info": {
   "codemirror_mode": {
    "name": "ipython",
    "version": 3
   },
   "file_extension": ".py",
   "mimetype": "text/x-python",
   "name": "python",
   "nbconvert_exporter": "python",
   "pygments_lexer": "ipython3",
   "version": "3.9.7"
  }
 },
 "nbformat": 4,
 "nbformat_minor": 5
}
